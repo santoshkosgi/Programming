{
 "cells": [
  {
   "cell_type": "markdown",
   "metadata": {},
   "source": [
    "This notebook uses SVD to form a simple recommender system. Inspired from here. http://nicolas-hug.com/blog/matrix_facto_3\n",
    "Dataset is from here https://grouplens.org/datasets/movielens/100k/"
   ]
  },
  {
   "cell_type": "code",
   "execution_count": 123,
   "metadata": {},
   "outputs": [],
   "source": [
    "import numpy as np\n",
    "import math\n",
    "import random"
   ]
  },
  {
   "cell_type": "code",
   "execution_count": 141,
   "metadata": {},
   "outputs": [],
   "source": [
    "dimensions = 100\n",
    "num_of_users = 944\n",
    "num_of_items = 1683\n",
    "learning_rate = 0.01\n",
    "reg_parameter = 0.001\n",
    "u_matrix = np.random.normal(0, .1, (num_of_users, dimensions))\n",
    "p_matrix = np.random.normal(0, .1, (num_of_items, dimensions))\n",
    "train_data_path = \"/Users/Santosh/codebase/Programming/MatrixFactorization/ml-100k/u1.base\"\n",
    "test_data_path = \"/Users/Santosh/codebase/Programming/MatrixFactorization/ml-100k/u1.test\"\n",
    "epochs = 10"
   ]
  },
  {
   "cell_type": "code",
   "execution_count": 142,
   "metadata": {},
   "outputs": [
    {
     "data": {
      "text/plain": [
       "(array([[ 0.17175809,  0.1276067 , -0.11789697, ...,  0.04034399,\n",
       "          0.00733426, -0.10164565],\n",
       "        [-0.20788383,  0.13823184, -0.10884474, ..., -0.00261042,\n",
       "         -0.04517819, -0.14127505],\n",
       "        [-0.09590677, -0.03839185,  0.1377199 , ..., -0.03174287,\n",
       "          0.10880349,  0.18774401],\n",
       "        ...,\n",
       "        [-0.09350721, -0.02864258,  0.09652416, ..., -0.06298999,\n",
       "         -0.12769358, -0.00689942],\n",
       "        [-0.10378998,  0.09911085, -0.04057321, ..., -0.08946242,\n",
       "          0.05089299, -0.02145821],\n",
       "        [ 0.11863085, -0.02064296, -0.07986737, ...,  0.10305227,\n",
       "          0.04117885,  0.05807444]]),\n",
       " array([[ 0.08474163,  0.08978646,  0.29747708, ...,  0.16806331,\n",
       "          0.0600689 , -0.02271644],\n",
       "        [ 0.11796718, -0.02227618,  0.03627739, ..., -0.11825477,\n",
       "          0.1391032 ,  0.19124405],\n",
       "        [ 0.11584917, -0.02805874,  0.08270397, ...,  0.00684411,\n",
       "         -0.11928679,  0.09699918],\n",
       "        ...,\n",
       "        [-0.00420583,  0.15384495, -0.00767735, ...,  0.04202567,\n",
       "          0.05119345,  0.0177603 ],\n",
       "        [-0.13030818,  0.11350338,  0.13057928, ..., -0.03923063,\n",
       "          0.12864016, -0.07532294],\n",
       "        [-0.09314232,  0.18353131, -0.04839304, ..., -0.04334781,\n",
       "         -0.05997303,  0.06886234]]))"
      ]
     },
     "execution_count": 142,
     "metadata": {},
     "output_type": "execute_result"
    }
   ],
   "source": [
    "u_matrix, p_matrix"
   ]
  },
  {
   "cell_type": "code",
   "execution_count": 143,
   "metadata": {},
   "outputs": [],
   "source": [
    "def learn_svd():\n",
    "#     shuffling of train data is needed\n",
    "    data = []\n",
    "    for line in open(train_data_path):\n",
    "        u, p, actual_rating, _ = line.split(\"\\t\")\n",
    "        data.append((u,p,actual_rating))\n",
    "    random.shuffle(data)\n",
    "    for _ in range(epochs):\n",
    "        for data_point in data:\n",
    "            u, p, actual_rating = data_point\n",
    "            u = int(u)\n",
    "            p = int(p)\n",
    "            actual_rating = int(actual_rating)\n",
    "            error_sample = actual_rating - (u_matrix[u, :].dot(p_matrix[p, :]))\n",
    "            # Updating u and vector after each sample\n",
    "            temp_p =  p_matrix[p, :] + (learning_rate * error_sample * u_matrix[u, :]) - reg_parameter * p_matrix[p, :]\n",
    "            temp_u =  u_matrix[u, :] + (learning_rate * error_sample * p_matrix[p, :]) - reg_parameter * u_matrix[u, :]\n",
    "            u_matrix[u, :] = temp_u\n",
    "            p_matrix[p, :] = temp_p\n",
    "    "
   ]
  },
  {
   "cell_type": "code",
   "execution_count": 144,
   "metadata": {},
   "outputs": [],
   "source": [
    "def compute_test_error():\n",
    "    error = 0\n",
    "    num_samples = 0\n",
    "    for line in open(test_data_path):\n",
    "        u, p, actual_rating, _ = line.split(\"\\t\")\n",
    "        u = int(u)\n",
    "        p = int(p)\n",
    "        actual_rating = int(actual_rating)\n",
    "        error_sample = math.pow(actual_rating - (u_matrix[u, :].dot(p_matrix[p, :])), 2)\n",
    "        error += error_sample\n",
    "        num_samples += 1\n",
    "    error /= num_samples\n",
    "    return error"
   ]
  },
  {
   "cell_type": "code",
   "execution_count": 145,
   "metadata": {},
   "outputs": [
    {
     "data": {
      "text/plain": [
       "0.9353583656951944"
      ]
     },
     "execution_count": 145,
     "metadata": {},
     "output_type": "execute_result"
    }
   ],
   "source": [
    "learn_svd()\n",
    "compute_test_error()"
   ]
  },
  {
   "cell_type": "code",
   "execution_count": null,
   "metadata": {},
   "outputs": [],
   "source": []
  }
 ],
 "metadata": {
  "kernelspec": {
   "display_name": "Python 3",
   "language": "python",
   "name": "python3"
  },
  "language_info": {
   "codemirror_mode": {
    "name": "ipython",
    "version": 3
   },
   "file_extension": ".py",
   "mimetype": "text/x-python",
   "name": "python",
   "nbconvert_exporter": "python",
   "pygments_lexer": "ipython3",
   "version": "3.5.3"
  }
 },
 "nbformat": 4,
 "nbformat_minor": 4
}
